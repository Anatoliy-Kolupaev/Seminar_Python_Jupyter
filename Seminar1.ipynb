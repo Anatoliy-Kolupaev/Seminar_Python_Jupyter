{
 "cells": [
  {
   "cell_type": "code",
   "execution_count": 1,
   "id": "6585ae4c",
   "metadata": {},
   "outputs": [],
   "source": [
    "# Дана функция f(x) = 5x^2 + 10x - 30\n",
    "\n",
    "#     Определить корни  (найти такие х, при которых f(x) = 0)\n",
    "\n",
    "#     Найти интервалы, на которых функция возрастает\n",
    "\n",
    "#     Найти интервалы, на которых функция убывает\n",
    "\n",
    "#     Построить график\n",
    "\n",
    "#     Вычислить вершину\n",
    "\n",
    "#     Определить промежутки, на котором f > 0\n",
    "\n",
    "#     Определить промежутки, на котором f < 0"
   ]
  },
  {
   "cell_type": "code",
   "execution_count": 1,
   "id": "caf82b40",
   "metadata": {},
   "outputs": [
    {
     "data": {
      "image/png": "[encoded data removed]",
      "text/plain": [
       "<Figure size 640x480 with 1 Axes>"
      ]
     },
     "metadata": {},
     "output_type": "display_data"
    }
   ],
   "source": [
    "#     Построить график\n",
    "from sympy.plotting import plot\n",
    "from sympy import Symbol, solve, diff, evalf, solveset, S, pprint\n",
    "\n",
    "x = Symbol('x')\n",
    "f = 5*x**2 + 10*x - 30\n",
    "n = plot(f)"
   ]
  },
  {
   "cell_type": "code",
   "execution_count": 2,
   "id": "9160ad59",
   "metadata": {},
   "outputs": [
    {
     "name": "stdout",
     "output_type": "stream",
     "text": [
      "[-1 + sqrt(7), -sqrt(7) - 1]\n",
      "1.64575131106459\n",
      "-3.64575131106459\n"
     ]
    }
   ],
   "source": [
    "# Определить корни  (найти такие х, при которых f(x) = 0)\n",
    "kor = solve(f,x) \n",
    "print(kor)\n",
    "for i in kor: # перевод в численное значение\n",
    "    print(i.evalf())"
   ]
  },
  {
   "cell_type": "code",
   "execution_count": 23,
   "id": "86df6dba",
   "metadata": {},
   "outputs": [
    {
     "name": "stdout",
     "output_type": "stream",
     "text": [
      "(-∞, -√7 - 1) ∪ (-1 + √7, ∞)\n"
     ]
    },
    {
     "data": {
      "text/latex": [
       "$\\displaystyle \\left(-\\infty < x \\wedge x < - \\sqrt{7} - 1\\right) \\vee \\left(x < \\infty \\wedge -1 + \\sqrt{7} < x\\right)$"
      ],
      "text/plain": [
       "((x < oo) & (-1 + sqrt(7) < x)) | ((-oo < x) & (x < -sqrt(7) - 1))"
      ]
     },
     "execution_count": 23,
     "metadata": {},
     "output_type": "execute_result"
    }
   ],
   "source": [
    "# Определить промежутки, на котором f > 0\n",
    "\n",
    "pprint(solveset(f > 0, x, domain=S.Reals), use_unicode=True) # красивый метод но можно \n",
    "\n",
    "solve(f>0,x)\n"
   ]
  },
  {
   "cell_type": "code",
   "execution_count": 24,
   "id": "a0ae821b",
   "metadata": {},
   "outputs": [
    {
     "name": "stdout",
     "output_type": "stream",
     "text": [
      "(-√7 - 1, -1 + √7)\n"
     ]
    },
    {
     "data": {
      "text/latex": [
       "$\\displaystyle x < -1 + \\sqrt{7} \\wedge - \\sqrt{7} - 1 < x$"
      ],
      "text/plain": [
       "(x < -1 + sqrt(7)) & (-sqrt(7) - 1 < x)"
      ]
     },
     "execution_count": 24,
     "metadata": {},
     "output_type": "execute_result"
    }
   ],
   "source": [
    "# Определить промежутки, на котором f < 0\n",
    "\n",
    "pprint(solveset(f < 0, x, domain=S.Reals), use_unicode=True) # красивый метод но можно\n",
    "\n",
    "solve(f<0,x)"
   ]
  },
  {
   "cell_type": "code",
   "execution_count": 11,
   "id": "2c79a4a7",
   "metadata": {},
   "outputs": [
    {
     "name": "stdout",
     "output_type": "stream",
     "text": [
      "10*x + 10\n"
     ]
    },
    {
     "data": {
      "text/plain": [
       "[-1]"
      ]
     },
     "execution_count": 11,
     "metadata": {},
     "output_type": "execute_result"
    }
   ],
   "source": [
    "#     Вычислить вершину\n",
    "diff_f = diff(f,x)\n",
    "print(diff_f)\n",
    "solve(diff_f,x)"
   ]
  },
  {
   "cell_type": "code",
   "execution_count": 25,
   "id": "f87a6b40",
   "metadata": {},
   "outputs": [
    {
     "name": "stdout",
     "output_type": "stream",
     "text": [
      "(-1, ∞)\n"
     ]
    },
    {
     "data": {
      "text/latex": [
       "$\\displaystyle -1 < x \\wedge x < \\infty$"
      ],
      "text/plain": [
       "(-1 < x) & (x < oo)"
      ]
     },
     "execution_count": 25,
     "metadata": {},
     "output_type": "execute_result"
    }
   ],
   "source": [
    "# Найти интервалы, на которых функция возрастает\n",
    "pprint(solveset(diff_f > 0, x, domain=S.Reals), use_unicode=True) # красивый метод но можно\n",
    "\n",
    "solve(diff_f > 0, x)"
   ]
  },
  {
   "cell_type": "code",
   "execution_count": 26,
   "id": "d0b0f30a",
   "metadata": {},
   "outputs": [
    {
     "name": "stdout",
     "output_type": "stream",
     "text": [
      "(-∞, -1)\n"
     ]
    },
    {
     "data": {
      "text/latex": [
       "$\\displaystyle -1 < x \\wedge x < \\infty$"
      ],
      "text/plain": [
       "(-1 < x) & (x < oo)"
      ]
     },
     "execution_count": 26,
     "metadata": {},
     "output_type": "execute_result"
    }
   ],
   "source": [
    "# Найти интервалы, на которых функция убывает\n",
    "pprint(solveset(diff_f < 0, x, domain=S.Reals), use_unicode=True) # красивый метод но можно\n",
    "\n",
    "solve(diff_f > 0, x)"
   ]
  },
  {
   "cell_type": "code",
   "execution_count": null,
   "id": "9a2c2f56",
   "metadata": {},
   "outputs": [],
   "source": []
  }
 ],
 "metadata": {
  "kernelspec": {
   "display_name": "Python 3 (ipykernel)",
   "language": "python",
   "name": "python3"
  },
  "language_info": {
   "codemirror_mode": {
    "name": "ipython",
    "version": 3
   },
   "file_extension": ".py",
   "mimetype": "text/x-python",
   "name": "python",
   "nbconvert_exporter": "python",
   "pygments_lexer": "ipython3",
   "version": "3.9.13"
  }
 },
 "nbformat": 4,
 "nbformat_minor": 5
}
