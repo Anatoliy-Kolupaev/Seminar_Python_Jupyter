{
 "cells": [
  {
   "cell_type": "code",
   "execution_count": 1,
   "id": "437092f2",
   "metadata": {},
   "outputs": [],
   "source": [
    "# Дана задача:\n",
    "\n",
    "# К аналитику обратился риэлтор c задачей выставить ценник для продажи объектов недвижимости площадью 48м2 и 54м2.\n",
    "# В ходе работы над задачей аналитик выяснил, что:\n",
    "\n",
    "# объект 31м2 стоит $19310\n",
    "\n",
    "# объект 51м2 стоит $52150\n",
    "\n",
    "# объект 61м2 стоит $74570\n",
    "\n",
    "# Вопрос: что. сказать риелтору?\n",
    "\n",
    "# f(s) = a*s**2 + b*s + c\n",
    "\n",
    "# s - стоимость\n",
    "# f(s) - площадь \n",
    "# найти коэфициэнты abc\n",
    "# Задача сводится к нахождению  abc путем решения системы уравненицй:\n",
    "# 1  (a*31**2) + 31*b +c = 19310\n",
    "# 2  (a*51**2) + 51*b +c = 52150\n",
    "# 3  (a*61**2) + 61*b +c = 74570\n"
   ]
  },
  {
   "cell_type": "code",
   "execution_count": 11,
   "id": "71a2b664",
   "metadata": {},
   "outputs": [
    {
     "name": "stdout",
     "output_type": "stream",
     "text": [
      "20 2 28\n"
     ]
    }
   ],
   "source": [
    "import sympy\n",
    "a, b, c = sympy.symbols('a, b, c')\n",
    "eq1 = a*(31**2) + 31*b + c - 19310\n",
    "eq2 = a*(51**2) + 51*b + c - 52150\n",
    "eq3 = a*(61**2) + 61*b + c - 74570\n",
    "sys_yr = [eq1, eq2, eq3]\n",
    "a, b, c = tuple(sympy.linsolve(sys_yr, a, b, c))[0]\n",
    "print(a, b, c)"
   ]
  },
  {
   "cell_type": "code",
   "execution_count": 15,
   "id": "ac6efc0e",
   "metadata": {},
   "outputs": [
    {
     "name": "stdout",
     "output_type": "stream",
     "text": [
      "Площадь обьекта: 88\n",
      "155084\n"
     ]
    }
   ],
   "source": [
    "s = sympy.Symbol('s')\n",
    "f = a*s**2 + b*s + c\n",
    "square = int(input('Площадь обьекта: '))\n",
    "print(round(f.evalf(subs={s:square})))"
   ]
  },
  {
   "cell_type": "code",
   "execution_count": null,
   "id": "44903a00",
   "metadata": {},
   "outputs": [],
   "source": []
  }
 ],
 "metadata": {
  "kernelspec": {
   "display_name": "Python 3 (ipykernel)",
   "language": "python",
   "name": "python3"
  },
  "language_info": {
   "codemirror_mode": {
    "name": "ipython",
    "version": 3
   },
   "file_extension": ".py",
   "mimetype": "text/x-python",
   "name": "python",
   "nbconvert_exporter": "python",
   "pygments_lexer": "ipython3",
   "version": "3.9.13"
  }
 },
 "nbformat": 4,
 "nbformat_minor": 5
}
